{
 "cells": [
  {
   "cell_type": "markdown",
   "metadata": {},
   "source": [
    "# Gender Analysis on CMU Movie Dataset"
   ]
  },
  {
   "cell_type": "markdown",
   "metadata": {},
   "source": [
    "As feminist consciousness grows, more people start to wonder if gender stereotypes exist and where they occur. We would like to examine whether gender stereotypes exist in movies.\n",
    "\n",
    "What research questions do we want to ask?"
   ]
  },
  {
   "cell_type": "markdown",
   "metadata": {},
   "source": [
    "## Load the CMU movie dataset\n",
    "\n",
    "We automatically extract dataset from this [website](http://www.cs.cmu.edu/~ark/personas/data/) and put all movie data at the folder `data/MovieSummaries/` and put plot summaries processed by CoreNLP at the folder `data/CoreNLP/`."
   ]
  },
  {
   "cell_type": "code",
   "execution_count": 1,
   "metadata": {},
   "outputs": [],
   "source": [
    "import os\n",
    "import re\n",
    "import math\n",
    "import gzip\n",
    "import urllib\n",
    "import string\n",
    "import tarfile\n",
    "import requests\n",
    "import collections\n",
    "import pandas as pd\n",
    "import pandas as pd\n",
    "import numpy as np\n",
    "from wordcloud import WordCloud\n",
    "import matplotlib.pyplot as plt\n",
    "import xml.etree.ElementTree as ET\n",
    "import seaborn as sns\n",
    "import networkx as nx\n",
    "from sklearn.linear_model import LinearRegression, LogisticRegression, Ridge\n",
    "from sklearn.neighbors import KNeighborsClassifier\n",
    "from sklearn.model_selection import cross_val_predict\n",
    "from sklearn.model_selection import cross_val_score\n",
    "from sklearn.metrics import mean_squared_error, auc, roc_curve\n",
    "%matplotlib inline"
   ]
  },
  {
   "cell_type": "code",
   "execution_count": 2,
   "metadata": {},
   "outputs": [],
   "source": [
    "cmu_path = \"data/MovieSummaries/\"\n",
    "corenlp_path = \"data/CoreNLP/\"\n",
    "summary_raw_path = corenlp_path+\"corenlp_plot_summaries/\"\n",
    "summary_path = corenlp_path+\"corenlp_plot_summaries_xml/\"\n",
    "movies_path = cmu_path+\"movie.metadata.tsv\"\n",
    "characters_path = cmu_path+\"character.metadata.tsv\"\n",
    "plot_path = cmu_path+\"plot_summaries.txt\""
   ]
  },
  {
   "cell_type": "code",
   "execution_count": 3,
   "metadata": {},
   "outputs": [],
   "source": [
    "if not os.path.exists(movies_path):\n",
    "    movie_url = 'http://www.cs.cmu.edu/~ark/personas/data/MovieSummaries.tar.gz'\n",
    "    tar_file = tarfile.open(fileobj=urllib.request.urlopen(movie_url), mode=\"r:gz\") \n",
    "    tar_file.extractall(path=movies_path)\n",
    "    tar_file.close()"
   ]
  },
  {
   "cell_type": "code",
   "execution_count": 4,
   "metadata": {},
   "outputs": [],
   "source": [
    "if not os.path.exists(corenlp_path):\n",
    "    corenlp_url = 'http://www.cs.cmu.edu/~ark/personas/data/corenlp_plot_summaries.tar'\n",
    "    tar_file = tarfile.open(fileobj=urllib.request.urlopen(corenlp_url), mode=\"r|\") \n",
    "    tar_file.extractall(path=corenlp_path)\n",
    "    \n",
    "    os.mkdir(summary_path)\n",
    "    for filename in os.listdir(summary_raw_path):\n",
    "        f = os.path.join(summary_raw_path, filename) \n",
    "        if os.path.isfile(f):\n",
    "            with gzip.open(f, 'rb') as f_in:\n",
    "                gz_file = os.path.join(summary_path, filename)\n",
    "                with open(gz_file[:-3], 'wb') as f_out:\n",
    "                    f_out.write(f_in.read())\n",
    "    tar_file.close()"
   ]
  },
  {
   "cell_type": "code",
   "execution_count": 5,
   "metadata": {},
   "outputs": [],
   "source": [
    "movies_column_names = [\n",
    "    \"wikipedia_id\",\n",
    "    \"freebase_id\",\n",
    "    \"name\",\n",
    "    \"release_date\",\n",
    "    \"box_office_revenue\",\n",
    "    \"runtime\",\n",
    "    \"languages\",\n",
    "    \"countries\",\n",
    "    \"genres\"\n",
    "]\n",
    "\n",
    "characters_column_names = [\n",
    "    \"wikipedia_id\",\n",
    "    \"freebase_id\",\n",
    "    \"release_date\",\n",
    "    \"character_name\",\n",
    "    \"actor_dob\",\n",
    "    \"actor_gender\",\n",
    "    \"actor_height\",\n",
    "    \"actor_ethnicity\",\n",
    "    \"actor_name\",\n",
    "    \"actor_age\",\n",
    "    \"freebase_character_map\",\n",
    "    \"freebase_character_id\",\n",
    "    \"freebase_actor_id\"\n",
    "]\n",
    "\n",
    "plot_column_names = ['wikipedia_id', 'summary']\n",
    "\n",
    "movies = pd.read_csv(movies_path, sep='\\t', header=None, names=movies_column_names)\n",
    "characters = pd.read_csv(characters_path, sep='\\t', header=None, names=characters_column_names)\n",
    "plots = pd.read_csv(plot_path, sep='\\t', header=None, names=plot_column_names)"
   ]
  },
  {
   "cell_type": "code",
   "execution_count": 6,
   "metadata": {},
   "outputs": [
    {
     "data": {
      "text/html": [
       "<div>\n",
       "<style scoped>\n",
       "    .dataframe tbody tr th:only-of-type {\n",
       "        vertical-align: middle;\n",
       "    }\n",
       "\n",
       "    .dataframe tbody tr th {\n",
       "        vertical-align: top;\n",
       "    }\n",
       "\n",
       "    .dataframe thead th {\n",
       "        text-align: right;\n",
       "    }\n",
       "</style>\n",
       "<table border=\"1\" class=\"dataframe\">\n",
       "  <thead>\n",
       "    <tr style=\"text-align: right;\">\n",
       "      <th></th>\n",
       "      <th>wikipedia_id</th>\n",
       "      <th>freebase_id</th>\n",
       "      <th>name</th>\n",
       "      <th>release_date</th>\n",
       "      <th>box_office_revenue</th>\n",
       "      <th>runtime</th>\n",
       "      <th>languages</th>\n",
       "      <th>countries</th>\n",
       "      <th>genres</th>\n",
       "    </tr>\n",
       "  </thead>\n",
       "  <tbody>\n",
       "    <tr>\n",
       "      <th>0</th>\n",
       "      <td>975900</td>\n",
       "      <td>/m/03vyhn</td>\n",
       "      <td>Ghosts of Mars</td>\n",
       "      <td>2001-08-24</td>\n",
       "      <td>14010832.0</td>\n",
       "      <td>98.0</td>\n",
       "      <td>{\"/m/02h40lc\": \"English Language\"}</td>\n",
       "      <td>{\"/m/09c7w0\": \"United States of America\"}</td>\n",
       "      <td>{\"/m/01jfsb\": \"Thriller\", \"/m/06n90\": \"Science...</td>\n",
       "    </tr>\n",
       "    <tr>\n",
       "      <th>1</th>\n",
       "      <td>3196793</td>\n",
       "      <td>/m/08yl5d</td>\n",
       "      <td>Getting Away with Murder: The JonBenét Ramsey ...</td>\n",
       "      <td>2000-02-16</td>\n",
       "      <td>NaN</td>\n",
       "      <td>95.0</td>\n",
       "      <td>{\"/m/02h40lc\": \"English Language\"}</td>\n",
       "      <td>{\"/m/09c7w0\": \"United States of America\"}</td>\n",
       "      <td>{\"/m/02n4kr\": \"Mystery\", \"/m/03bxz7\": \"Biograp...</td>\n",
       "    </tr>\n",
       "    <tr>\n",
       "      <th>2</th>\n",
       "      <td>28463795</td>\n",
       "      <td>/m/0crgdbh</td>\n",
       "      <td>Brun bitter</td>\n",
       "      <td>1988</td>\n",
       "      <td>NaN</td>\n",
       "      <td>83.0</td>\n",
       "      <td>{\"/m/05f_3\": \"Norwegian Language\"}</td>\n",
       "      <td>{\"/m/05b4w\": \"Norway\"}</td>\n",
       "      <td>{\"/m/0lsxr\": \"Crime Fiction\", \"/m/07s9rl0\": \"D...</td>\n",
       "    </tr>\n",
       "    <tr>\n",
       "      <th>3</th>\n",
       "      <td>9363483</td>\n",
       "      <td>/m/0285_cd</td>\n",
       "      <td>White Of The Eye</td>\n",
       "      <td>1987</td>\n",
       "      <td>NaN</td>\n",
       "      <td>110.0</td>\n",
       "      <td>{\"/m/02h40lc\": \"English Language\"}</td>\n",
       "      <td>{\"/m/07ssc\": \"United Kingdom\"}</td>\n",
       "      <td>{\"/m/01jfsb\": \"Thriller\", \"/m/0glj9q\": \"Erotic...</td>\n",
       "    </tr>\n",
       "    <tr>\n",
       "      <th>4</th>\n",
       "      <td>261236</td>\n",
       "      <td>/m/01mrr1</td>\n",
       "      <td>A Woman in Flames</td>\n",
       "      <td>1983</td>\n",
       "      <td>NaN</td>\n",
       "      <td>106.0</td>\n",
       "      <td>{\"/m/04306rv\": \"German Language\"}</td>\n",
       "      <td>{\"/m/0345h\": \"Germany\"}</td>\n",
       "      <td>{\"/m/07s9rl0\": \"Drama\"}</td>\n",
       "    </tr>\n",
       "  </tbody>\n",
       "</table>\n",
       "</div>"
      ],
      "text/plain": [
       "   wikipedia_id freebase_id  \\\n",
       "0        975900   /m/03vyhn   \n",
       "1       3196793   /m/08yl5d   \n",
       "2      28463795  /m/0crgdbh   \n",
       "3       9363483  /m/0285_cd   \n",
       "4        261236   /m/01mrr1   \n",
       "\n",
       "                                                name release_date  \\\n",
       "0                                     Ghosts of Mars   2001-08-24   \n",
       "1  Getting Away with Murder: The JonBenét Ramsey ...   2000-02-16   \n",
       "2                                        Brun bitter         1988   \n",
       "3                                   White Of The Eye         1987   \n",
       "4                                  A Woman in Flames         1983   \n",
       "\n",
       "   box_office_revenue  runtime                           languages  \\\n",
       "0          14010832.0     98.0  {\"/m/02h40lc\": \"English Language\"}   \n",
       "1                 NaN     95.0  {\"/m/02h40lc\": \"English Language\"}   \n",
       "2                 NaN     83.0  {\"/m/05f_3\": \"Norwegian Language\"}   \n",
       "3                 NaN    110.0  {\"/m/02h40lc\": \"English Language\"}   \n",
       "4                 NaN    106.0   {\"/m/04306rv\": \"German Language\"}   \n",
       "\n",
       "                                   countries  \\\n",
       "0  {\"/m/09c7w0\": \"United States of America\"}   \n",
       "1  {\"/m/09c7w0\": \"United States of America\"}   \n",
       "2                     {\"/m/05b4w\": \"Norway\"}   \n",
       "3             {\"/m/07ssc\": \"United Kingdom\"}   \n",
       "4                    {\"/m/0345h\": \"Germany\"}   \n",
       "\n",
       "                                              genres  \n",
       "0  {\"/m/01jfsb\": \"Thriller\", \"/m/06n90\": \"Science...  \n",
       "1  {\"/m/02n4kr\": \"Mystery\", \"/m/03bxz7\": \"Biograp...  \n",
       "2  {\"/m/0lsxr\": \"Crime Fiction\", \"/m/07s9rl0\": \"D...  \n",
       "3  {\"/m/01jfsb\": \"Thriller\", \"/m/0glj9q\": \"Erotic...  \n",
       "4                            {\"/m/07s9rl0\": \"Drama\"}  "
      ]
     },
     "execution_count": 6,
     "metadata": {},
     "output_type": "execute_result"
    }
   ],
   "source": [
    "movies.head()"
   ]
  },
  {
   "cell_type": "markdown",
   "metadata": {},
   "source": [
    "Attributes:\n",
    "\n",
    "- `wikipedia_id`: Wikipedia movie ID\n",
    "- `freebase_id`: Freebase movie ID\n",
    "- `name`: Movie name\n",
    "- `release_date`: Movie release date\n",
    "- `box_office_revenue`: Movie box office revenue\n",
    "- `runtime`: Movie runtime (in minutes)\n",
    "- `languages`: Movie languages (Freebase ID:name tuples)\n",
    "- `countries`: Movie countries (Freebase ID:name tuples)\n",
    "- `genres`: Movie genres (Freebase ID:name tuples)"
   ]
  },
  {
   "cell_type": "code",
   "execution_count": 7,
   "metadata": {},
   "outputs": [
    {
     "data": {
      "text/html": [
       "<div>\n",
       "<style scoped>\n",
       "    .dataframe tbody tr th:only-of-type {\n",
       "        vertical-align: middle;\n",
       "    }\n",
       "\n",
       "    .dataframe tbody tr th {\n",
       "        vertical-align: top;\n",
       "    }\n",
       "\n",
       "    .dataframe thead th {\n",
       "        text-align: right;\n",
       "    }\n",
       "</style>\n",
       "<table border=\"1\" class=\"dataframe\">\n",
       "  <thead>\n",
       "    <tr style=\"text-align: right;\">\n",
       "      <th></th>\n",
       "      <th>wikipedia_id</th>\n",
       "      <th>freebase_id</th>\n",
       "      <th>release_date</th>\n",
       "      <th>character_name</th>\n",
       "      <th>actor_dob</th>\n",
       "      <th>actor_gender</th>\n",
       "      <th>actor_height</th>\n",
       "      <th>actor_ethnicity</th>\n",
       "      <th>actor_name</th>\n",
       "      <th>actor_age</th>\n",
       "      <th>freebase_character_map</th>\n",
       "      <th>freebase_character_id</th>\n",
       "      <th>freebase_actor_id</th>\n",
       "    </tr>\n",
       "  </thead>\n",
       "  <tbody>\n",
       "    <tr>\n",
       "      <th>0</th>\n",
       "      <td>975900</td>\n",
       "      <td>/m/03vyhn</td>\n",
       "      <td>2001-08-24</td>\n",
       "      <td>Akooshay</td>\n",
       "      <td>1958-08-26</td>\n",
       "      <td>F</td>\n",
       "      <td>1.620</td>\n",
       "      <td>NaN</td>\n",
       "      <td>Wanda De Jesus</td>\n",
       "      <td>42.0</td>\n",
       "      <td>/m/0bgchxw</td>\n",
       "      <td>/m/0bgcj3x</td>\n",
       "      <td>/m/03wcfv7</td>\n",
       "    </tr>\n",
       "    <tr>\n",
       "      <th>1</th>\n",
       "      <td>975900</td>\n",
       "      <td>/m/03vyhn</td>\n",
       "      <td>2001-08-24</td>\n",
       "      <td>Lieutenant Melanie Ballard</td>\n",
       "      <td>1974-08-15</td>\n",
       "      <td>F</td>\n",
       "      <td>1.780</td>\n",
       "      <td>/m/044038p</td>\n",
       "      <td>Natasha Henstridge</td>\n",
       "      <td>27.0</td>\n",
       "      <td>/m/0jys3m</td>\n",
       "      <td>/m/0bgchn4</td>\n",
       "      <td>/m/0346l4</td>\n",
       "    </tr>\n",
       "    <tr>\n",
       "      <th>2</th>\n",
       "      <td>975900</td>\n",
       "      <td>/m/03vyhn</td>\n",
       "      <td>2001-08-24</td>\n",
       "      <td>Desolation Williams</td>\n",
       "      <td>1969-06-15</td>\n",
       "      <td>M</td>\n",
       "      <td>1.727</td>\n",
       "      <td>/m/0x67</td>\n",
       "      <td>Ice Cube</td>\n",
       "      <td>32.0</td>\n",
       "      <td>/m/0jys3g</td>\n",
       "      <td>/m/0bgchn_</td>\n",
       "      <td>/m/01vw26l</td>\n",
       "    </tr>\n",
       "    <tr>\n",
       "      <th>3</th>\n",
       "      <td>975900</td>\n",
       "      <td>/m/03vyhn</td>\n",
       "      <td>2001-08-24</td>\n",
       "      <td>Sgt Jericho Butler</td>\n",
       "      <td>1967-09-12</td>\n",
       "      <td>M</td>\n",
       "      <td>1.750</td>\n",
       "      <td>NaN</td>\n",
       "      <td>Jason Statham</td>\n",
       "      <td>33.0</td>\n",
       "      <td>/m/02vchl6</td>\n",
       "      <td>/m/0bgchnq</td>\n",
       "      <td>/m/034hyc</td>\n",
       "    </tr>\n",
       "    <tr>\n",
       "      <th>4</th>\n",
       "      <td>975900</td>\n",
       "      <td>/m/03vyhn</td>\n",
       "      <td>2001-08-24</td>\n",
       "      <td>Bashira Kincaid</td>\n",
       "      <td>1977-09-25</td>\n",
       "      <td>F</td>\n",
       "      <td>1.650</td>\n",
       "      <td>NaN</td>\n",
       "      <td>Clea DuVall</td>\n",
       "      <td>23.0</td>\n",
       "      <td>/m/02vbb3r</td>\n",
       "      <td>/m/0bgchp9</td>\n",
       "      <td>/m/01y9xg</td>\n",
       "    </tr>\n",
       "  </tbody>\n",
       "</table>\n",
       "</div>"
      ],
      "text/plain": [
       "   wikipedia_id freebase_id release_date              character_name  \\\n",
       "0        975900   /m/03vyhn   2001-08-24                    Akooshay   \n",
       "1        975900   /m/03vyhn   2001-08-24  Lieutenant Melanie Ballard   \n",
       "2        975900   /m/03vyhn   2001-08-24         Desolation Williams   \n",
       "3        975900   /m/03vyhn   2001-08-24          Sgt Jericho Butler   \n",
       "4        975900   /m/03vyhn   2001-08-24             Bashira Kincaid   \n",
       "\n",
       "    actor_dob actor_gender  actor_height actor_ethnicity          actor_name  \\\n",
       "0  1958-08-26            F         1.620             NaN      Wanda De Jesus   \n",
       "1  1974-08-15            F         1.780      /m/044038p  Natasha Henstridge   \n",
       "2  1969-06-15            M         1.727         /m/0x67            Ice Cube   \n",
       "3  1967-09-12            M         1.750             NaN       Jason Statham   \n",
       "4  1977-09-25            F         1.650             NaN         Clea DuVall   \n",
       "\n",
       "   actor_age freebase_character_map freebase_character_id freebase_actor_id  \n",
       "0       42.0             /m/0bgchxw            /m/0bgcj3x        /m/03wcfv7  \n",
       "1       27.0              /m/0jys3m            /m/0bgchn4         /m/0346l4  \n",
       "2       32.0              /m/0jys3g            /m/0bgchn_        /m/01vw26l  \n",
       "3       33.0             /m/02vchl6            /m/0bgchnq         /m/034hyc  \n",
       "4       23.0             /m/02vbb3r            /m/0bgchp9         /m/01y9xg  "
      ]
     },
     "execution_count": 7,
     "metadata": {},
     "output_type": "execute_result"
    }
   ],
   "source": [
    "characters.head()"
   ]
  },
  {
   "cell_type": "markdown",
   "metadata": {},
   "source": [
    "Attributes:\n",
    "\n",
    "- `wikipedia_id`: Wikipedia movie ID\n",
    "- `freebase_id`: Freebase movie ID\n",
    "- `release_date`: Movie release date\n",
    "- `character_name`: Character name\n",
    "- `actor_dob`: Actor date of birth\n",
    "- `actor_gender`: Actor gender\n",
    "- `actor_height`: Actor height (in meters)\n",
    "- `actor_ethnicity`: Actor ethnicity (Freebase ID)\n",
    "- `actor_name`: Actor name\n",
    "- `actor_age`:Actor age at movie release\n",
    "- `freebase_character_map`: Freebase character/actor map ID\n",
    "- `freebase_character_id`: Freebase character ID\n",
    "- `freebase_actor_id`: Freebase actor ID"
   ]
  },
  {
   "cell_type": "code",
   "execution_count": 8,
   "metadata": {},
   "outputs": [
    {
     "data": {
      "text/html": [
       "<div>\n",
       "<style scoped>\n",
       "    .dataframe tbody tr th:only-of-type {\n",
       "        vertical-align: middle;\n",
       "    }\n",
       "\n",
       "    .dataframe tbody tr th {\n",
       "        vertical-align: top;\n",
       "    }\n",
       "\n",
       "    .dataframe thead th {\n",
       "        text-align: right;\n",
       "    }\n",
       "</style>\n",
       "<table border=\"1\" class=\"dataframe\">\n",
       "  <thead>\n",
       "    <tr style=\"text-align: right;\">\n",
       "      <th></th>\n",
       "      <th>wikipedia_id</th>\n",
       "      <th>summary</th>\n",
       "    </tr>\n",
       "  </thead>\n",
       "  <tbody>\n",
       "    <tr>\n",
       "      <th>0</th>\n",
       "      <td>23890098</td>\n",
       "      <td>Shlykov, a hard-working taxi driver and Lyosha...</td>\n",
       "    </tr>\n",
       "    <tr>\n",
       "      <th>1</th>\n",
       "      <td>31186339</td>\n",
       "      <td>The nation of Panem consists of a wealthy Capi...</td>\n",
       "    </tr>\n",
       "    <tr>\n",
       "      <th>2</th>\n",
       "      <td>20663735</td>\n",
       "      <td>Poovalli Induchoodan  is sentenced for six yea...</td>\n",
       "    </tr>\n",
       "    <tr>\n",
       "      <th>3</th>\n",
       "      <td>2231378</td>\n",
       "      <td>The Lemon Drop Kid , a New York City swindler,...</td>\n",
       "    </tr>\n",
       "    <tr>\n",
       "      <th>4</th>\n",
       "      <td>595909</td>\n",
       "      <td>Seventh-day Adventist Church pastor Michael Ch...</td>\n",
       "    </tr>\n",
       "  </tbody>\n",
       "</table>\n",
       "</div>"
      ],
      "text/plain": [
       "   wikipedia_id                                            summary\n",
       "0      23890098  Shlykov, a hard-working taxi driver and Lyosha...\n",
       "1      31186339  The nation of Panem consists of a wealthy Capi...\n",
       "2      20663735  Poovalli Induchoodan  is sentenced for six yea...\n",
       "3       2231378  The Lemon Drop Kid , a New York City swindler,...\n",
       "4        595909  Seventh-day Adventist Church pastor Michael Ch..."
      ]
     },
     "execution_count": 8,
     "metadata": {},
     "output_type": "execute_result"
    }
   ],
   "source": [
    "plots.head()"
   ]
  },
  {
   "cell_type": "markdown",
   "metadata": {},
   "source": [
    "Attributes:\n",
    "\n",
    "Plot summaries of 42,306 movies extracted from the November 2, 2012 dump of English-language Wikipedia.  Each line contains the Wikipedia movie ID (which indexes into movie.metadata.tsv) followed by the summary."
   ]
  },
  {
   "cell_type": "markdown",
   "metadata": {},
   "source": [
    "The plot summaries are processed by CoreNLP pipeline (tagging, parsing, NER, and coref). The data are in the folder `data/CoreNLP/corenlp_plot_summaries_xml/*`. Each filename begins with the Wikipedia movie ID (which indexes into dataframe `movies`) and ends with the format `.xml`."
   ]
  },
  {
   "cell_type": "markdown",
   "metadata": {},
   "source": [
    "## Glance at the data and data preprocessing"
   ]
  },
  {
   "cell_type": "markdown",
   "metadata": {},
   "source": [
    "### Missing values\n",
    "\n",
    "First we glance at the data and see how many null values in the dataset.\n",
    "\n",
    "#### Movies"
   ]
  },
  {
   "cell_type": "code",
   "execution_count": 9,
   "metadata": {},
   "outputs": [
    {
     "name": "stdout",
     "output_type": "stream",
     "text": [
      "Percentage of NaN values in the movie dataset (total 81741 rows):\n",
      "wikipedia_id           0.000000\n",
      "freebase_id            0.000000\n",
      "name                   0.000000\n",
      "release_date           8.443743\n",
      "box_office_revenue    89.722416\n",
      "runtime               25.018045\n",
      "languages              0.000000\n",
      "countries              0.000000\n",
      "genres                 0.000000\n",
      "dtype: float64\n"
     ]
    }
   ],
   "source": [
    "print('Percentage of NaN values in the movie dataset (total {} rows):'.format(len(movies)))\n",
    "print(movies.isna().sum() / len(movies) * 100)"
   ]
  },
  {
   "cell_type": "markdown",
   "metadata": {},
   "source": [
    "Almost 90% of box office revenue data are missing, and box office revenue is NOT the aspect we want to study on gender analysis. Besides, about one fourth of movie runtime data are missing, and it is also NOT important for our gender analysis. Therefore, we directly discard these features.\n",
    "\n",
    "Over 8% of the movie release dates are missing, which we need for gender analysis from a temporal perspective. So it is necessary to keep and properly process this feature. now we just choose to drop rows with null `release_date`."
   ]
  },
  {
   "cell_type": "code",
   "execution_count": 10,
   "metadata": {},
   "outputs": [
    {
     "name": "stdout",
     "output_type": "stream",
     "text": [
      "74839 movies left (81741 before).\n"
     ]
    },
    {
     "data": {
      "text/html": [
       "<div>\n",
       "<style scoped>\n",
       "    .dataframe tbody tr th:only-of-type {\n",
       "        vertical-align: middle;\n",
       "    }\n",
       "\n",
       "    .dataframe tbody tr th {\n",
       "        vertical-align: top;\n",
       "    }\n",
       "\n",
       "    .dataframe thead th {\n",
       "        text-align: right;\n",
       "    }\n",
       "</style>\n",
       "<table border=\"1\" class=\"dataframe\">\n",
       "  <thead>\n",
       "    <tr style=\"text-align: right;\">\n",
       "      <th></th>\n",
       "      <th>wikipedia_id</th>\n",
       "      <th>freebase_id</th>\n",
       "      <th>name</th>\n",
       "      <th>release_date</th>\n",
       "      <th>languages</th>\n",
       "      <th>countries</th>\n",
       "      <th>genres</th>\n",
       "    </tr>\n",
       "  </thead>\n",
       "  <tbody>\n",
       "    <tr>\n",
       "      <th>0</th>\n",
       "      <td>975900</td>\n",
       "      <td>/m/03vyhn</td>\n",
       "      <td>Ghosts of Mars</td>\n",
       "      <td>2001-08-24</td>\n",
       "      <td>{\"/m/02h40lc\": \"English Language\"}</td>\n",
       "      <td>{\"/m/09c7w0\": \"United States of America\"}</td>\n",
       "      <td>{\"/m/01jfsb\": \"Thriller\", \"/m/06n90\": \"Science...</td>\n",
       "    </tr>\n",
       "    <tr>\n",
       "      <th>1</th>\n",
       "      <td>3196793</td>\n",
       "      <td>/m/08yl5d</td>\n",
       "      <td>Getting Away with Murder: The JonBenét Ramsey ...</td>\n",
       "      <td>2000-02-16</td>\n",
       "      <td>{\"/m/02h40lc\": \"English Language\"}</td>\n",
       "      <td>{\"/m/09c7w0\": \"United States of America\"}</td>\n",
       "      <td>{\"/m/02n4kr\": \"Mystery\", \"/m/03bxz7\": \"Biograp...</td>\n",
       "    </tr>\n",
       "    <tr>\n",
       "      <th>2</th>\n",
       "      <td>28463795</td>\n",
       "      <td>/m/0crgdbh</td>\n",
       "      <td>Brun bitter</td>\n",
       "      <td>1988</td>\n",
       "      <td>{\"/m/05f_3\": \"Norwegian Language\"}</td>\n",
       "      <td>{\"/m/05b4w\": \"Norway\"}</td>\n",
       "      <td>{\"/m/0lsxr\": \"Crime Fiction\", \"/m/07s9rl0\": \"D...</td>\n",
       "    </tr>\n",
       "    <tr>\n",
       "      <th>3</th>\n",
       "      <td>9363483</td>\n",
       "      <td>/m/0285_cd</td>\n",
       "      <td>White Of The Eye</td>\n",
       "      <td>1987</td>\n",
       "      <td>{\"/m/02h40lc\": \"English Language\"}</td>\n",
       "      <td>{\"/m/07ssc\": \"United Kingdom\"}</td>\n",
       "      <td>{\"/m/01jfsb\": \"Thriller\", \"/m/0glj9q\": \"Erotic...</td>\n",
       "    </tr>\n",
       "    <tr>\n",
       "      <th>4</th>\n",
       "      <td>261236</td>\n",
       "      <td>/m/01mrr1</td>\n",
       "      <td>A Woman in Flames</td>\n",
       "      <td>1983</td>\n",
       "      <td>{\"/m/04306rv\": \"German Language\"}</td>\n",
       "      <td>{\"/m/0345h\": \"Germany\"}</td>\n",
       "      <td>{\"/m/07s9rl0\": \"Drama\"}</td>\n",
       "    </tr>\n",
       "  </tbody>\n",
       "</table>\n",
       "</div>"
      ],
      "text/plain": [
       "   wikipedia_id freebase_id  \\\n",
       "0        975900   /m/03vyhn   \n",
       "1       3196793   /m/08yl5d   \n",
       "2      28463795  /m/0crgdbh   \n",
       "3       9363483  /m/0285_cd   \n",
       "4        261236   /m/01mrr1   \n",
       "\n",
       "                                                name release_date  \\\n",
       "0                                     Ghosts of Mars   2001-08-24   \n",
       "1  Getting Away with Murder: The JonBenét Ramsey ...   2000-02-16   \n",
       "2                                        Brun bitter         1988   \n",
       "3                                   White Of The Eye         1987   \n",
       "4                                  A Woman in Flames         1983   \n",
       "\n",
       "                            languages  \\\n",
       "0  {\"/m/02h40lc\": \"English Language\"}   \n",
       "1  {\"/m/02h40lc\": \"English Language\"}   \n",
       "2  {\"/m/05f_3\": \"Norwegian Language\"}   \n",
       "3  {\"/m/02h40lc\": \"English Language\"}   \n",
       "4   {\"/m/04306rv\": \"German Language\"}   \n",
       "\n",
       "                                   countries  \\\n",
       "0  {\"/m/09c7w0\": \"United States of America\"}   \n",
       "1  {\"/m/09c7w0\": \"United States of America\"}   \n",
       "2                     {\"/m/05b4w\": \"Norway\"}   \n",
       "3             {\"/m/07ssc\": \"United Kingdom\"}   \n",
       "4                    {\"/m/0345h\": \"Germany\"}   \n",
       "\n",
       "                                              genres  \n",
       "0  {\"/m/01jfsb\": \"Thriller\", \"/m/06n90\": \"Science...  \n",
       "1  {\"/m/02n4kr\": \"Mystery\", \"/m/03bxz7\": \"Biograp...  \n",
       "2  {\"/m/0lsxr\": \"Crime Fiction\", \"/m/07s9rl0\": \"D...  \n",
       "3  {\"/m/01jfsb\": \"Thriller\", \"/m/0glj9q\": \"Erotic...  \n",
       "4                            {\"/m/07s9rl0\": \"Drama\"}  "
      ]
     },
     "execution_count": 10,
     "metadata": {},
     "output_type": "execute_result"
    }
   ],
   "source": [
    "try:\n",
    "    movies = movies.drop(columns=[\n",
    "        'box_office_revenue',\n",
    "        'runtime'\n",
    "    ])\n",
    "except:\n",
    "    pass\n",
    "\n",
    "movies = movies.dropna(subset=['release_date'])\n",
    "print(\"{} movies left (81741 before).\".format(len(movies)))\n",
    "movies.head()"
   ]
  },
  {
   "cell_type": "markdown",
   "metadata": {},
   "source": [
    "#### Characters"
   ]
  },
  {
   "cell_type": "code",
   "execution_count": 11,
   "metadata": {},
   "outputs": [
    {
     "name": "stdout",
     "output_type": "stream",
     "text": [
      "Percentage of NaN values in the character dataset (total 450669 rows):\n",
      "wikipedia_id               0.000000\n",
      "freebase_id                0.000000\n",
      "release_date               2.217814\n",
      "character_name            57.220488\n",
      "actor_dob                 23.552763\n",
      "actor_gender              10.120288\n",
      "actor_height              65.645740\n",
      "actor_ethnicity           76.466542\n",
      "actor_name                 0.272484\n",
      "actor_age                 35.084064\n",
      "freebase_character_map     0.000000\n",
      "freebase_character_id     57.218269\n",
      "freebase_actor_id          0.180842\n",
      "dtype: float64\n"
     ]
    }
   ],
   "source": [
    "print('Percentage of NaN values in the character dataset (total {} rows):'.format(len(characters)))\n",
    "print(characters.isna().sum() / len(characters) * 100)"
   ]
  },
  {
   "cell_type": "markdown",
   "metadata": {},
   "source": [
    "We don't care about any id related to freebase, height, ethnicity, and dob, so we throw these attributes away.\n",
    "\n",
    "However, more than half of the data in the column `character_name` are `NaN`s. This feature is quite important for gender analysis on plots. 10% of data in `actor_gender` and 35% of data in `actor_age` are also missing. Again we want temporal analysis but 2% of data in `release_date` are missing. We need to carefully handle these features. Here we just remove rows with null actor gender or release date."
   ]
  },
  {
   "cell_type": "code",
   "execution_count": 12,
   "metadata": {},
   "outputs": [
    {
     "name": "stdout",
     "output_type": "stream",
     "text": [
      "395214 characters left (450669 before).\n"
     ]
    },
    {
     "data": {
      "text/html": [
       "<div>\n",
       "<style scoped>\n",
       "    .dataframe tbody tr th:only-of-type {\n",
       "        vertical-align: middle;\n",
       "    }\n",
       "\n",
       "    .dataframe tbody tr th {\n",
       "        vertical-align: top;\n",
       "    }\n",
       "\n",
       "    .dataframe thead th {\n",
       "        text-align: right;\n",
       "    }\n",
       "</style>\n",
       "<table border=\"1\" class=\"dataframe\">\n",
       "  <thead>\n",
       "    <tr style=\"text-align: right;\">\n",
       "      <th></th>\n",
       "      <th>wikipedia_id</th>\n",
       "      <th>release_date</th>\n",
       "      <th>character_name</th>\n",
       "      <th>actor_gender</th>\n",
       "      <th>actor_name</th>\n",
       "      <th>actor_age</th>\n",
       "    </tr>\n",
       "  </thead>\n",
       "  <tbody>\n",
       "    <tr>\n",
       "      <th>0</th>\n",
       "      <td>975900</td>\n",
       "      <td>2001-08-24</td>\n",
       "      <td>Akooshay</td>\n",
       "      <td>F</td>\n",
       "      <td>Wanda De Jesus</td>\n",
       "      <td>42.0</td>\n",
       "    </tr>\n",
       "    <tr>\n",
       "      <th>1</th>\n",
       "      <td>975900</td>\n",
       "      <td>2001-08-24</td>\n",
       "      <td>Lieutenant Melanie Ballard</td>\n",
       "      <td>F</td>\n",
       "      <td>Natasha Henstridge</td>\n",
       "      <td>27.0</td>\n",
       "    </tr>\n",
       "    <tr>\n",
       "      <th>2</th>\n",
       "      <td>975900</td>\n",
       "      <td>2001-08-24</td>\n",
       "      <td>Desolation Williams</td>\n",
       "      <td>M</td>\n",
       "      <td>Ice Cube</td>\n",
       "      <td>32.0</td>\n",
       "    </tr>\n",
       "    <tr>\n",
       "      <th>3</th>\n",
       "      <td>975900</td>\n",
       "      <td>2001-08-24</td>\n",
       "      <td>Sgt Jericho Butler</td>\n",
       "      <td>M</td>\n",
       "      <td>Jason Statham</td>\n",
       "      <td>33.0</td>\n",
       "    </tr>\n",
       "    <tr>\n",
       "      <th>4</th>\n",
       "      <td>975900</td>\n",
       "      <td>2001-08-24</td>\n",
       "      <td>Bashira Kincaid</td>\n",
       "      <td>F</td>\n",
       "      <td>Clea DuVall</td>\n",
       "      <td>23.0</td>\n",
       "    </tr>\n",
       "  </tbody>\n",
       "</table>\n",
       "</div>"
      ],
      "text/plain": [
       "   wikipedia_id release_date              character_name actor_gender  \\\n",
       "0        975900   2001-08-24                    Akooshay            F   \n",
       "1        975900   2001-08-24  Lieutenant Melanie Ballard            F   \n",
       "2        975900   2001-08-24         Desolation Williams            M   \n",
       "3        975900   2001-08-24          Sgt Jericho Butler            M   \n",
       "4        975900   2001-08-24             Bashira Kincaid            F   \n",
       "\n",
       "           actor_name  actor_age  \n",
       "0      Wanda De Jesus       42.0  \n",
       "1  Natasha Henstridge       27.0  \n",
       "2            Ice Cube       32.0  \n",
       "3       Jason Statham       33.0  \n",
       "4         Clea DuVall       23.0  "
      ]
     },
     "execution_count": 12,
     "metadata": {},
     "output_type": "execute_result"
    }
   ],
   "source": [
    "try:\n",
    "    characters = characters.drop(columns=[\n",
    "        'freebase_id',\n",
    "        'actor_dob',\n",
    "        'actor_height',\n",
    "        'actor_ethnicity',\n",
    "        'freebase_character_map',\n",
    "        'freebase_character_id',\n",
    "        'freebase_actor_id'\n",
    "    ])\n",
    "except:\n",
    "    pass\n",
    "\n",
    "characters = characters.dropna(how='any', subset=[\"actor_gender\", \"release_date\"])\n",
    "print(\"{} characters left (450669 before).\".format(len(characters)))\n",
    "characters.head()"
   ]
  },
  {
   "cell_type": "markdown",
   "metadata": {},
   "source": [
    "#### Plot summaries"
   ]
  },
  {
   "cell_type": "code",
   "execution_count": 13,
   "metadata": {},
   "outputs": [
    {
     "name": "stdout",
     "output_type": "stream",
     "text": [
      "Percentage of NaN values in the plot dataset (total 42303 rows):\n",
      "wikipedia_id    0.0\n",
      "summary         0.0\n",
      "dtype: object\n"
     ]
    }
   ],
   "source": [
    "print('Percentage of NaN values in the plot dataset (total {} rows):'.format(len(plots)))\n",
    "print(plots[(plots.isna()) | (plots=='')].sum() / len(plots) * 100)"
   ]
  },
  {
   "cell_type": "code",
   "execution_count": 14,
   "metadata": {},
   "outputs": [
    {
     "data": {
      "text/plain": [
       "0"
      ]
     },
     "execution_count": 14,
     "metadata": {},
     "output_type": "execute_result"
    }
   ],
   "source": [
    "plots.wikipedia_id.duplicated().sum()"
   ]
  },
  {
   "cell_type": "markdown",
   "metadata": {},
   "source": [
    "Great! We don't have empty plot summaries in the plot dataframe. We have 81741 movies (ignore possible duplicated movies), but only 42303 of them have plot summaries. From above we can see there's no duplicated movies in the plot dataset. Therefore, we can focus on these movies.for gender analysis on plot summaries."
   ]
  },
  {
   "cell_type": "markdown",
   "metadata": {},
   "source": [
    "### Release date\n",
    "\n",
    "The feature `release_date` is important because we need temporal analysis on gender. However, some values are missing and the format is not unified:"
   ]
  },
  {
   "cell_type": "code",
   "execution_count": 15,
   "metadata": {},
   "outputs": [
    {
     "name": "stdout",
     "output_type": "stream",
     "text": [
      "Movie dataset:\n",
      "0        2001-08-24\n",
      "1        2000-02-16\n",
      "2              1988\n",
      "3              1987\n",
      "4              1983\n",
      "            ...    \n",
      "81736    2011-03-19\n",
      "81737    2011-01-21\n",
      "81738    1972-09-22\n",
      "81739    1992-05-21\n",
      "81740          2002\n",
      "Name: release_date, Length: 74839, dtype: object\n",
      "==========================\n",
      "Character dataset:\n",
      "0         2001-08-24\n",
      "1         2001-08-24\n",
      "2         2001-08-24\n",
      "3         2001-08-24\n",
      "4         2001-08-24\n",
      "             ...    \n",
      "450662    1992-05-21\n",
      "450663    1992-05-21\n",
      "450664    1992-05-21\n",
      "450665    1992-05-21\n",
      "450666          1957\n",
      "Name: release_date, Length: 395214, dtype: object\n"
     ]
    }
   ],
   "source": [
    "print(\"Movie dataset:\")\n",
    "print(movies.release_date)\n",
    "print(\"==========================\")\n",
    "print(\"Character dataset:\")\n",
    "print(characters.release_date)"
   ]
  },
  {
   "cell_type": "markdown",
   "metadata": {},
   "source": [
    "We just focus on granularity of year, so we can reformat our dataset."
   ]
  },
  {
   "cell_type": "code",
   "execution_count": 16,
   "metadata": {},
   "outputs": [],
   "source": [
    "def extract_year(x):\n",
    "    return str(x)[:4]\n",
    "\n",
    "\n",
    "movies.release_date = movies.release_date.apply(extract_year)\n",
    "characters.release_date = characters.release_date.apply(extract_year)"
   ]
  },
  {
   "cell_type": "code",
   "execution_count": 17,
   "metadata": {},
   "outputs": [
    {
     "data": {
      "image/png": "[encoded data removed]",
      "text/plain": [
       "<Figure size 1800x800 with 2 Axes>"
      ]
     },
     "metadata": {},
     "output_type": "display_data"
    }
   ],
   "source": [
    "fig, axes = plt.subplots(2, 1, sharex=True, figsize=(18, 8))\n",
    "fig.suptitle(\"Counts of movies and characters according to different years\")\n",
    "\n",
    "ax = sns.lineplot(data = movies.release_date.value_counts().sort_index(), ax=axes[0], color='g')\n",
    "ax.set_xticks(np.unique(movies.release_date))\n",
    "ax.set_xticklabels(np.unique(movies.release_date), rotation=70)\n",
    "\n",
    "ax = sns.lineplot(data = characters.release_date.value_counts().sort_index(), ax=axes[1])\n",
    "ax.set_xticks(np.unique(movies.release_date))\n",
    "ax.set_xticklabels(np.unique(movies.release_date), rotation=70)\n",
    "\n",
    "axes[0].set(xlabel=\"Release Year\", ylabel=\"Movies Count\")\n",
    "axes[1].set(xlabel=\"Release Year\", ylabel=\"Characters Count\")\n",
    "plt.tight_layout()\n",
    "plt.show()"
   ]
  },
  {
   "cell_type": "markdown",
   "metadata": {},
   "source": [
    "We can see there's one outlier `1010`. We found that the movie is [*Hunting Season*](https://en.wikipedia.org/wiki/Hunting_Season_(2010_film)) which was released in 2010. So it is wrongly reported and we assume the year should be `2010`. We will fix this error now.\n",
    "\n",
    "Besides, these two distributions are skewed, and we need to carefully sample the dataset when doing temporal analysis. We will handle it in the future."
   ]
  },
  {
   "cell_type": "code",
   "execution_count": 18,
   "metadata": {},
   "outputs": [
    {
     "data": {
      "text/html": [
       "<div>\n",
       "<style scoped>\n",
       "    .dataframe tbody tr th:only-of-type {\n",
       "        vertical-align: middle;\n",
       "    }\n",
       "\n",
       "    .dataframe tbody tr th {\n",
       "        vertical-align: top;\n",
       "    }\n",
       "\n",
       "    .dataframe thead th {\n",
       "        text-align: right;\n",
       "    }\n",
       "</style>\n",
       "<table border=\"1\" class=\"dataframe\">\n",
       "  <thead>\n",
       "    <tr style=\"text-align: right;\">\n",
       "      <th></th>\n",
       "      <th>wikipedia_id</th>\n",
       "      <th>freebase_id</th>\n",
       "      <th>name</th>\n",
       "      <th>release_date</th>\n",
       "      <th>languages</th>\n",
       "      <th>countries</th>\n",
       "      <th>genres</th>\n",
       "    </tr>\n",
       "  </thead>\n",
       "  <tbody>\n",
       "    <tr>\n",
       "      <th>62836</th>\n",
       "      <td>29666067</td>\n",
       "      <td>/m/0fphzrf</td>\n",
       "      <td>Hunting Season</td>\n",
       "      <td>1010</td>\n",
       "      <td>{\"/m/02hwyss\": \"Turkish Language\", \"/m/02h40lc...</td>\n",
       "      <td>{\"/m/01znc_\": \"Turkey\"}</td>\n",
       "      <td>{\"/m/0lsxr\": \"Crime Fiction\", \"/m/02n4kr\": \"My...</td>\n",
       "    </tr>\n",
       "  </tbody>\n",
       "</table>\n",
       "</div>"
      ],
      "text/plain": [
       "       wikipedia_id freebase_id            name release_date  \\\n",
       "62836      29666067  /m/0fphzrf  Hunting Season         1010   \n",
       "\n",
       "                                               languages  \\\n",
       "62836  {\"/m/02hwyss\": \"Turkish Language\", \"/m/02h40lc...   \n",
       "\n",
       "                     countries  \\\n",
       "62836  {\"/m/01znc_\": \"Turkey\"}   \n",
       "\n",
       "                                                  genres  \n",
       "62836  {\"/m/0lsxr\": \"Crime Fiction\", \"/m/02n4kr\": \"My...  "
      ]
     },
     "execution_count": 18,
     "metadata": {},
     "output_type": "execute_result"
    }
   ],
   "source": [
    "movies[movies.release_date == '1010']"
   ]
  },
  {
   "cell_type": "code",
   "execution_count": 20,
   "metadata": {},
   "outputs": [],
   "source": [
    "movies.release_date = movies.release_date.apply(lambda x: '2010' if x == '1010' else x)\n",
    "movies.release_date = pd.to_datetime(movies.release_date, format=\"%Y\").dt.year\n",
    "characters.release_date = characters.release_date.apply(lambda x: '2010' if x == '1010' else x)\n",
    "characters.release_date = pd.to_datetime(characters.release_date, format=\"%Y\").dt.year"
   ]
  },
  {
   "cell_type": "markdown",
   "metadata": {},
   "source": [
    "### Language, countries, and genres\n",
    "\n",
    "They are encoded string of dictionaries whose keys are freebase ids. We will only keep the values and put the values in a list. We will also remove \"Language\" from elements in column `languages`."
   ]
  },
  {
   "cell_type": "code",
   "execution_count": 19,
   "metadata": {},
   "outputs": [
    {
     "data": {
      "text/html": [
       "<div>\n",
       "<style scoped>\n",
       "    .dataframe tbody tr th:only-of-type {\n",
       "        vertical-align: middle;\n",
       "    }\n",
       "\n",
       "    .dataframe tbody tr th {\n",
       "        vertical-align: top;\n",
       "    }\n",
       "\n",
       "    .dataframe thead th {\n",
       "        text-align: right;\n",
       "    }\n",
       "</style>\n",
       "<table border=\"1\" class=\"dataframe\">\n",
       "  <thead>\n",
       "    <tr style=\"text-align: right;\">\n",
       "      <th></th>\n",
       "      <th>languages</th>\n",
       "      <th>countries</th>\n",
       "      <th>genres</th>\n",
       "    </tr>\n",
       "  </thead>\n",
       "  <tbody>\n",
       "    <tr>\n",
       "      <th>0</th>\n",
       "      <td>{\"/m/02h40lc\": \"English Language\"}</td>\n",
       "      <td>{\"/m/09c7w0\": \"United States of America\"}</td>\n",
       "      <td>{\"/m/01jfsb\": \"Thriller\", \"/m/06n90\": \"Science...</td>\n",
       "    </tr>\n",
       "    <tr>\n",
       "      <th>1</th>\n",
       "      <td>{\"/m/02h40lc\": \"English Language\"}</td>\n",
       "      <td>{\"/m/09c7w0\": \"United States of America\"}</td>\n",
       "      <td>{\"/m/02n4kr\": \"Mystery\", \"/m/03bxz7\": \"Biograp...</td>\n",
       "    </tr>\n",
       "    <tr>\n",
       "      <th>2</th>\n",
       "      <td>{\"/m/05f_3\": \"Norwegian Language\"}</td>\n",
       "      <td>{\"/m/05b4w\": \"Norway\"}</td>\n",
       "      <td>{\"/m/0lsxr\": \"Crime Fiction\", \"/m/07s9rl0\": \"D...</td>\n",
       "    </tr>\n",
       "    <tr>\n",
       "      <th>3</th>\n",
       "      <td>{\"/m/02h40lc\": \"English Language\"}</td>\n",
       "      <td>{\"/m/07ssc\": \"United Kingdom\"}</td>\n",
       "      <td>{\"/m/01jfsb\": \"Thriller\", \"/m/0glj9q\": \"Erotic...</td>\n",
       "    </tr>\n",
       "    <tr>\n",
       "      <th>4</th>\n",
       "      <td>{\"/m/04306rv\": \"German Language\"}</td>\n",
       "      <td>{\"/m/0345h\": \"Germany\"}</td>\n",
       "      <td>{\"/m/07s9rl0\": \"Drama\"}</td>\n",
       "    </tr>\n",
       "    <tr>\n",
       "      <th>...</th>\n",
       "      <td>...</td>\n",
       "      <td>...</td>\n",
       "      <td>...</td>\n",
       "    </tr>\n",
       "    <tr>\n",
       "      <th>81736</th>\n",
       "      <td>{\"/m/02h40lc\": \"English Language\"}</td>\n",
       "      <td>{\"/m/09c7w0\": \"United States of America\"}</td>\n",
       "      <td>{\"/m/07s9rl0\": \"Drama\"}</td>\n",
       "    </tr>\n",
       "    <tr>\n",
       "      <th>81737</th>\n",
       "      <td>{\"/m/02h40lc\": \"English Language\"}</td>\n",
       "      <td>{\"/m/03rt9\": \"Ireland\", \"/m/07ssc\": \"United Ki...</td>\n",
       "      <td>{\"/m/03bxz7\": \"Biographical film\", \"/m/07s9rl0...</td>\n",
       "    </tr>\n",
       "    <tr>\n",
       "      <th>81738</th>\n",
       "      <td>{\"/m/02h40lc\": \"English Language\"}</td>\n",
       "      <td>{\"/m/09c7w0\": \"United States of America\"}</td>\n",
       "      <td>{\"/m/06nbt\": \"Satire\", \"/m/01z4y\": \"Comedy\"}</td>\n",
       "    </tr>\n",
       "    <tr>\n",
       "      <th>81739</th>\n",
       "      <td>{\"/m/03_9r\": \"Japanese Language\"}</td>\n",
       "      <td>{\"/m/03_3d\": \"Japan\"}</td>\n",
       "      <td>{\"/m/06n90\": \"Science Fiction\", \"/m/0gw5n2f\": ...</td>\n",
       "    </tr>\n",
       "    <tr>\n",
       "      <th>81740</th>\n",
       "      <td>{\"/m/02h40lc\": \"English Language\"}</td>\n",
       "      <td>{\"/m/0d060g\": \"Canada\"}</td>\n",
       "      <td>{\"/m/01jfsb\": \"Thriller\", \"/m/03npn\": \"Horror\"...</td>\n",
       "    </tr>\n",
       "  </tbody>\n",
       "</table>\n",
       "<p>74839 rows × 3 columns</p>\n",
       "</div>"
      ],
      "text/plain": [
       "                                languages  \\\n",
       "0      {\"/m/02h40lc\": \"English Language\"}   \n",
       "1      {\"/m/02h40lc\": \"English Language\"}   \n",
       "2      {\"/m/05f_3\": \"Norwegian Language\"}   \n",
       "3      {\"/m/02h40lc\": \"English Language\"}   \n",
       "4       {\"/m/04306rv\": \"German Language\"}   \n",
       "...                                   ...   \n",
       "81736  {\"/m/02h40lc\": \"English Language\"}   \n",
       "81737  {\"/m/02h40lc\": \"English Language\"}   \n",
       "81738  {\"/m/02h40lc\": \"English Language\"}   \n",
       "81739   {\"/m/03_9r\": \"Japanese Language\"}   \n",
       "81740  {\"/m/02h40lc\": \"English Language\"}   \n",
       "\n",
       "                                               countries  \\\n",
       "0              {\"/m/09c7w0\": \"United States of America\"}   \n",
       "1              {\"/m/09c7w0\": \"United States of America\"}   \n",
       "2                                 {\"/m/05b4w\": \"Norway\"}   \n",
       "3                         {\"/m/07ssc\": \"United Kingdom\"}   \n",
       "4                                {\"/m/0345h\": \"Germany\"}   \n",
       "...                                                  ...   \n",
       "81736          {\"/m/09c7w0\": \"United States of America\"}   \n",
       "81737  {\"/m/03rt9\": \"Ireland\", \"/m/07ssc\": \"United Ki...   \n",
       "81738          {\"/m/09c7w0\": \"United States of America\"}   \n",
       "81739                              {\"/m/03_3d\": \"Japan\"}   \n",
       "81740                            {\"/m/0d060g\": \"Canada\"}   \n",
       "\n",
       "                                                  genres  \n",
       "0      {\"/m/01jfsb\": \"Thriller\", \"/m/06n90\": \"Science...  \n",
       "1      {\"/m/02n4kr\": \"Mystery\", \"/m/03bxz7\": \"Biograp...  \n",
       "2      {\"/m/0lsxr\": \"Crime Fiction\", \"/m/07s9rl0\": \"D...  \n",
       "3      {\"/m/01jfsb\": \"Thriller\", \"/m/0glj9q\": \"Erotic...  \n",
       "4                                {\"/m/07s9rl0\": \"Drama\"}  \n",
       "...                                                  ...  \n",
       "81736                            {\"/m/07s9rl0\": \"Drama\"}  \n",
       "81737  {\"/m/03bxz7\": \"Biographical film\", \"/m/07s9rl0...  \n",
       "81738       {\"/m/06nbt\": \"Satire\", \"/m/01z4y\": \"Comedy\"}  \n",
       "81739  {\"/m/06n90\": \"Science Fiction\", \"/m/0gw5n2f\": ...  \n",
       "81740  {\"/m/01jfsb\": \"Thriller\", \"/m/03npn\": \"Horror\"...  \n",
       "\n",
       "[74839 rows x 3 columns]"
      ]
     },
     "execution_count": 19,
     "metadata": {},
     "output_type": "execute_result"
    }
   ],
   "source": [
    "movies[[\"languages\", \"countries\", \"genres\"]]"
   ]
  },
  {
   "cell_type": "code",
   "execution_count": 21,
   "metadata": {},
   "outputs": [],
   "source": [
    "get_dict_keys = lambda x: np.nan    if x=={} \\\n",
    "                    else  [re.sub(r\"\\x20[Ll]anguage\", \"\", w) for w in re.findall(r'\"(.*?)\"', x)[1::2]]\n",
    "movies.countries = movies.countries.apply(get_dict_keys)\n",
    "movies.languages = movies.languages.apply(get_dict_keys)\n",
    "movies.genres = movies.genres.apply(get_dict_keys)"
   ]
  },
  {
   "cell_type": "code",
   "execution_count": 22,
   "metadata": {},
   "outputs": [
    {
     "data": {
      "text/html": [
       "<div>\n",
       "<style scoped>\n",
       "    .dataframe tbody tr th:only-of-type {\n",
       "        vertical-align: middle;\n",
       "    }\n",
       "\n",
       "    .dataframe tbody tr th {\n",
       "        vertical-align: top;\n",
       "    }\n",
       "\n",
       "    .dataframe thead th {\n",
       "        text-align: right;\n",
       "    }\n",
       "</style>\n",
       "<table border=\"1\" class=\"dataframe\">\n",
       "  <thead>\n",
       "    <tr style=\"text-align: right;\">\n",
       "      <th></th>\n",
       "      <th>wikipedia_id</th>\n",
       "      <th>freebase_id</th>\n",
       "      <th>name</th>\n",
       "      <th>release_date</th>\n",
       "      <th>languages</th>\n",
       "      <th>countries</th>\n",
       "      <th>genres</th>\n",
       "    </tr>\n",
       "  </thead>\n",
       "  <tbody>\n",
       "    <tr>\n",
       "      <th>0</th>\n",
       "      <td>975900</td>\n",
       "      <td>/m/03vyhn</td>\n",
       "      <td>Ghosts of Mars</td>\n",
       "      <td>2001</td>\n",
       "      <td>[English]</td>\n",
       "      <td>[United States of America]</td>\n",
       "      <td>[Thriller, Science Fiction, Horror, Adventure,...</td>\n",
       "    </tr>\n",
       "    <tr>\n",
       "      <th>1</th>\n",
       "      <td>3196793</td>\n",
       "      <td>/m/08yl5d</td>\n",
       "      <td>Getting Away with Murder: The JonBenét Ramsey ...</td>\n",
       "      <td>2000</td>\n",
       "      <td>[English]</td>\n",
       "      <td>[United States of America]</td>\n",
       "      <td>[Mystery, Biographical film, Drama, Crime Drama]</td>\n",
       "    </tr>\n",
       "    <tr>\n",
       "      <th>2</th>\n",
       "      <td>28463795</td>\n",
       "      <td>/m/0crgdbh</td>\n",
       "      <td>Brun bitter</td>\n",
       "      <td>1988</td>\n",
       "      <td>[Norwegian]</td>\n",
       "      <td>[Norway]</td>\n",
       "      <td>[Crime Fiction, Drama]</td>\n",
       "    </tr>\n",
       "    <tr>\n",
       "      <th>3</th>\n",
       "      <td>9363483</td>\n",
       "      <td>/m/0285_cd</td>\n",
       "      <td>White Of The Eye</td>\n",
       "      <td>1987</td>\n",
       "      <td>[English]</td>\n",
       "      <td>[United Kingdom]</td>\n",
       "      <td>[Thriller, Erotic thriller, Psychological thri...</td>\n",
       "    </tr>\n",
       "    <tr>\n",
       "      <th>4</th>\n",
       "      <td>261236</td>\n",
       "      <td>/m/01mrr1</td>\n",
       "      <td>A Woman in Flames</td>\n",
       "      <td>1983</td>\n",
       "      <td>[German]</td>\n",
       "      <td>[Germany]</td>\n",
       "      <td>[Drama]</td>\n",
       "    </tr>\n",
       "  </tbody>\n",
       "</table>\n",
       "</div>"
      ],
      "text/plain": [
       "   wikipedia_id freebase_id  \\\n",
       "0        975900   /m/03vyhn   \n",
       "1       3196793   /m/08yl5d   \n",
       "2      28463795  /m/0crgdbh   \n",
       "3       9363483  /m/0285_cd   \n",
       "4        261236   /m/01mrr1   \n",
       "\n",
       "                                                name  release_date  \\\n",
       "0                                     Ghosts of Mars          2001   \n",
       "1  Getting Away with Murder: The JonBenét Ramsey ...          2000   \n",
       "2                                        Brun bitter          1988   \n",
       "3                                   White Of The Eye          1987   \n",
       "4                                  A Woman in Flames          1983   \n",
       "\n",
       "     languages                   countries  \\\n",
       "0    [English]  [United States of America]   \n",
       "1    [English]  [United States of America]   \n",
       "2  [Norwegian]                    [Norway]   \n",
       "3    [English]            [United Kingdom]   \n",
       "4     [German]                   [Germany]   \n",
       "\n",
       "                                              genres  \n",
       "0  [Thriller, Science Fiction, Horror, Adventure,...  \n",
       "1   [Mystery, Biographical film, Drama, Crime Drama]  \n",
       "2                             [Crime Fiction, Drama]  \n",
       "3  [Thriller, Erotic thriller, Psychological thri...  \n",
       "4                                            [Drama]  "
      ]
     },
     "execution_count": 22,
     "metadata": {},
     "output_type": "execute_result"
    }
   ],
   "source": [
    "movies.head()"
   ]
  },
  {
   "cell_type": "code",
   "execution_count": 23,
   "metadata": {},
   "outputs": [
    {
     "name": "stdout",
     "output_type": "stream",
     "text": [
      "There are 202 languages, but 190 of them only have less than 1000 films.\n",
      "English                                 39680\n",
      "Spanish                                  3532\n",
      "Hindi                                    3432\n",
      "French                                   3323\n",
      "Silent film                              3079\n",
      "                                        ...  \n",
      "Southwestern Mandarin                       1\n",
      "Australian Aboriginal Pidgin English        1\n",
      "Tok Pisin                                   1\n",
      "Pawnee                                      1\n",
      "Kuna                                        1\n",
      "Length: 202, dtype: int64\n"
     ]
    }
   ],
   "source": [
    "languages_count = pd.Series([x for item in movies.languages for x in item]).value_counts()\n",
    "print(\"There are {} languages, but {} of them only have less than 1000 films.\".format(len(languages_count), (languages_count<1000).sum()))\n",
    "print(languages_count)"
   ]
  },
  {
   "cell_type": "code",
   "execution_count": 24,
   "metadata": {},
   "outputs": [
    {
     "data": {
      "image/png": "[encoded data removed]",
      "text/plain": [
       "<Figure size 640x480 with 1 Axes>"
      ]
     },
     "metadata": {},
     "output_type": "display_data"
    }
   ],
   "source": [
    "ax = languages_count[languages_count>=1000].plot(kind=\"bar\")\n",
    "ax.set(xlabel=\"Languages\", ylabel=\"Count\")\n",
    "ax.set_title(\"Count of movies in most popular languages\")\n",
    "plt.show()"
   ]
  },
  {
   "cell_type": "markdown",
   "metadata": {},
   "source": [
    "The distribution is highly skewed. If we want to do gender analysis on movies from different languages, we may only choose a subset of them that have enough movies.\n",
    "\n",
    "There are silent films in the dataset and we may drop them if we want to do this kind of analysis. Now we choose to keep them."
   ]
  },
  {
   "cell_type": "code",
   "execution_count": 25,
   "metadata": {},
   "outputs": [
    {
     "name": "stdout",
     "output_type": "stream",
     "text": [
      "There are 146 countries/regions, but 134 of them only have less than 1000 films.\n",
      "United States of America    33197\n",
      "India                        7764\n",
      "United Kingdom               7452\n",
      "France                       4199\n",
      "Italy                        3017\n",
      "                            ...  \n",
      "Republic of China               1\n",
      "Macau                           1\n",
      "Palestinian Territories         1\n",
      "German                          1\n",
      "Ukranian SSR                    1\n",
      "Length: 146, dtype: int64\n"
     ]
    }
   ],
   "source": [
    "countries_count = pd.Series([x for item in movies.countries for x in item]).value_counts()\n",
    "print(\"There are {} countries/regions, but {} of them only have less than 1000 films.\".format(len(countries_count), (countries_count<1000).sum()))\n",
    "print(countries_count)"
   ]
  },
  {
   "cell_type": "code",
   "execution_count": 26,
   "metadata": {},
   "outputs": [
    {
     "data": {
      "image/png": "[encoded data removed]",
      "text/plain": [
       "<Figure size 640x480 with 1 Axes>"
      ]
     },
     "metadata": {},
     "output_type": "display_data"
    }
   ],
   "source": [
    "ax = countries_count.iloc[:30].plot(kind=\"bar\")\n",
    "ax.set(xlabel=\"Countries/Regions\", ylabel=\"Count\")\n",
    "ax.set_title(\"Count of movies in most popular countries/regions\")\n",
    "plt.show()"
   ]
  },
  {
   "cell_type": "markdown",
   "metadata": {},
   "source": [
    "We can see the distribution is also highly skewed. If we want to do gender analysis on movies from different countries/regions, we may only choose a subset of them that have enough movies.\n",
    "\n",
    "Besides, country/region names are changing (e.g. Germany, West Germany, German Democratic Republic; Soviet Union, Russia). We are still thinking about whether to retain this feature."
   ]
  },
  {
   "cell_type": "markdown",
   "metadata": {},
   "source": [
    "## Gender stereotype analysis on movie plot summaries\n",
    "\n",
    "Now we want to know whether gender stereotypes exist in movie plot summaries. We consider relevant words around male characters and female characters. We implement this by searching plot summaries containing character names in the `character` dataframe. Then we identify relevant words as first or last two words of noun, verb, or adjective from the character name within one sentence. We extract relevant words around these names by gender and count log frequency of words related to different genders. Finally we analyze top 15 frequent words for different genders."
   ]
  },
  {
   "cell_type": "markdown",
   "metadata": {},
   "source": [
    "### Preprocessing"
   ]
  },
  {
   "cell_type": "markdown",
   "metadata": {},
   "source": [
    "First we join plot summaries to movies dataset."
   ]
  },
  {
   "cell_type": "code",
   "execution_count": 37,
   "metadata": {},
   "outputs": [
    {
     "data": {
      "text/html": [
       "<div>\n",
       "<style scoped>\n",
       "    .dataframe tbody tr th:only-of-type {\n",
       "        vertical-align: middle;\n",
       "    }\n",
       "\n",
       "    .dataframe tbody tr th {\n",
       "        vertical-align: top;\n",
       "    }\n",
       "\n",
       "    .dataframe thead th {\n",
       "        text-align: right;\n",
       "    }\n",
       "</style>\n",
       "<table border=\"1\" class=\"dataframe\">\n",
       "  <thead>\n",
       "    <tr style=\"text-align: right;\">\n",
       "      <th></th>\n",
       "      <th>wikipedia_id</th>\n",
       "      <th>release_date</th>\n",
       "      <th>languages</th>\n",
       "      <th>countries</th>\n",
       "      <th>genres</th>\n",
       "      <th>summary</th>\n",
       "    </tr>\n",
       "  </thead>\n",
       "  <tbody>\n",
       "    <tr>\n",
       "      <th>0</th>\n",
       "      <td>975900</td>\n",
       "      <td>2001</td>\n",
       "      <td>[English]</td>\n",
       "      <td>[United States of America]</td>\n",
       "      <td>[Thriller, Science Fiction, Horror, Adventure,...</td>\n",
       "      <td>Set in the second half of the 22nd century, th...</td>\n",
       "    </tr>\n",
       "    <tr>\n",
       "      <th>1</th>\n",
       "      <td>9363483</td>\n",
       "      <td>1987</td>\n",
       "      <td>[English]</td>\n",
       "      <td>[United Kingdom]</td>\n",
       "      <td>[Thriller, Erotic thriller, Psychological thri...</td>\n",
       "      <td>A series of murders of rich young women throug...</td>\n",
       "    </tr>\n",
       "    <tr>\n",
       "      <th>2</th>\n",
       "      <td>261236</td>\n",
       "      <td>1983</td>\n",
       "      <td>[German]</td>\n",
       "      <td>[Germany]</td>\n",
       "      <td>[Drama]</td>\n",
       "      <td>Eva, an upper class housewife, becomes frustra...</td>\n",
       "    </tr>\n",
       "    <tr>\n",
       "      <th>3</th>\n",
       "      <td>18998739</td>\n",
       "      <td>2002</td>\n",
       "      <td>[English]</td>\n",
       "      <td>[South Africa]</td>\n",
       "      <td>[Family Film, Fantasy, Adventure, World cinema]</td>\n",
       "      <td>Every hundred years, the evil Morgana  returns...</td>\n",
       "    </tr>\n",
       "    <tr>\n",
       "      <th>4</th>\n",
       "      <td>6631279</td>\n",
       "      <td>1997</td>\n",
       "      <td>[English]</td>\n",
       "      <td>[United States of America]</td>\n",
       "      <td>[Romantic comedy, Ensemble Film, Comedy-drama,...</td>\n",
       "      <td>Adam, a San Francisco-based artist who works a...</td>\n",
       "    </tr>\n",
       "  </tbody>\n",
       "</table>\n",
       "</div>"
      ],
      "text/plain": [
       "   wikipedia_id  release_date  languages                   countries  \\\n",
       "0        975900          2001  [English]  [United States of America]   \n",
       "1       9363483          1987  [English]            [United Kingdom]   \n",
       "2        261236          1983   [German]                   [Germany]   \n",
       "3      18998739          2002  [English]              [South Africa]   \n",
       "4       6631279          1997  [English]  [United States of America]   \n",
       "\n",
       "                                              genres  \\\n",
       "0  [Thriller, Science Fiction, Horror, Adventure,...   \n",
       "1  [Thriller, Erotic thriller, Psychological thri...   \n",
       "2                                            [Drama]   \n",
       "3    [Family Film, Fantasy, Adventure, World cinema]   \n",
       "4  [Romantic comedy, Ensemble Film, Comedy-drama,...   \n",
       "\n",
       "                                             summary  \n",
       "0  Set in the second half of the 22nd century, th...  \n",
       "1  A series of murders of rich young women throug...  \n",
       "2  Eva, an upper class housewife, becomes frustra...  \n",
       "3  Every hundred years, the evil Morgana  returns...  \n",
       "4  Adam, a San Francisco-based artist who works a...  "
      ]
     },
     "execution_count": 37,
     "metadata": {},
     "output_type": "execute_result"
    }
   ],
   "source": [
    "movies_plots = pd.merge(movies, plots, on=\"wikipedia_id\", how=\"inner\")[[\n",
    "    \"wikipedia_id\",\n",
    "    \"release_date\",\n",
    "    \"languages\",\n",
    "    \"countries\",\n",
    "    \"genres\",\n",
    "    \"summary\"\n",
    "]]\n",
    "movies_plots.head()"
   ]
  },
  {
   "cell_type": "markdown",
   "metadata": {},
   "source": [
    "Then we filter movies with plots containing character names in characters dataframe and add these character names in the movies dataframe."
   ]
  },
  {
   "cell_type": "code",
   "execution_count": 36,
   "metadata": {},
   "outputs": [
    {
     "data": {
      "text/html": [
       "<div>\n",
       "<style scoped>\n",
       "    .dataframe tbody tr th:only-of-type {\n",
       "        vertical-align: middle;\n",
       "    }\n",
       "\n",
       "    .dataframe tbody tr th {\n",
       "        vertical-align: top;\n",
       "    }\n",
       "\n",
       "    .dataframe thead th {\n",
       "        text-align: right;\n",
       "    }\n",
       "</style>\n",
       "<table border=\"1\" class=\"dataframe\">\n",
       "  <thead>\n",
       "    <tr style=\"text-align: right;\">\n",
       "      <th></th>\n",
       "      <th>wikipedia_id</th>\n",
       "      <th>release_date</th>\n",
       "      <th>character_name</th>\n",
       "      <th>actor_gender</th>\n",
       "      <th>actor_name</th>\n",
       "      <th>actor_age</th>\n",
       "    </tr>\n",
       "  </thead>\n",
       "  <tbody>\n",
       "    <tr>\n",
       "      <th>0</th>\n",
       "      <td>975900</td>\n",
       "      <td>2001</td>\n",
       "      <td>Akooshay</td>\n",
       "      <td>F</td>\n",
       "      <td>Wanda De Jesus</td>\n",
       "      <td>42.0</td>\n",
       "    </tr>\n",
       "    <tr>\n",
       "      <th>1</th>\n",
       "      <td>975900</td>\n",
       "      <td>2001</td>\n",
       "      <td>Lieutenant Melanie Ballard</td>\n",
       "      <td>F</td>\n",
       "      <td>Natasha Henstridge</td>\n",
       "      <td>27.0</td>\n",
       "    </tr>\n",
       "    <tr>\n",
       "      <th>2</th>\n",
       "      <td>975900</td>\n",
       "      <td>2001</td>\n",
       "      <td>Desolation Williams</td>\n",
       "      <td>M</td>\n",
       "      <td>Ice Cube</td>\n",
       "      <td>32.0</td>\n",
       "    </tr>\n",
       "    <tr>\n",
       "      <th>3</th>\n",
       "      <td>975900</td>\n",
       "      <td>2001</td>\n",
       "      <td>Sgt Jericho Butler</td>\n",
       "      <td>M</td>\n",
       "      <td>Jason Statham</td>\n",
       "      <td>33.0</td>\n",
       "    </tr>\n",
       "    <tr>\n",
       "      <th>4</th>\n",
       "      <td>975900</td>\n",
       "      <td>2001</td>\n",
       "      <td>Bashira Kincaid</td>\n",
       "      <td>F</td>\n",
       "      <td>Clea DuVall</td>\n",
       "      <td>23.0</td>\n",
       "    </tr>\n",
       "  </tbody>\n",
       "</table>\n",
       "</div>"
      ],
      "text/plain": [
       "   wikipedia_id  release_date              character_name actor_gender  \\\n",
       "0        975900          2001                    Akooshay            F   \n",
       "1        975900          2001  Lieutenant Melanie Ballard            F   \n",
       "2        975900          2001         Desolation Williams            M   \n",
       "3        975900          2001          Sgt Jericho Butler            M   \n",
       "4        975900          2001             Bashira Kincaid            F   \n",
       "\n",
       "           actor_name  actor_age  \n",
       "0      Wanda De Jesus       42.0  \n",
       "1  Natasha Henstridge       27.0  \n",
       "2            Ice Cube       32.0  \n",
       "3       Jason Statham       33.0  \n",
       "4         Clea DuVall       23.0  "
      ]
     },
     "execution_count": 36,
     "metadata": {},
     "output_type": "execute_result"
    }
   ],
   "source": [
    "characters_filtered = characters.dropna(subset=['character_name', 'actor_gender'])\n",
    "characters_filtered.head()"
   ]
  },
  {
   "cell_type": "code",
   "execution_count": 29,
   "metadata": {},
   "outputs": [],
   "source": [
    "temp_df = movies_plots[movies_plots.wikipedia_id.isin(characters_filtered.wikipedia_id)]"
   ]
  },
  {
   "cell_type": "code",
   "execution_count": 30,
   "metadata": {},
   "outputs": [],
   "source": [
    "index = []\n",
    "name_gender = []\n",
    "count_gender = {'M': 0, 'F': 0}\n",
    "for i in range(len(temp_df)):\n",
    "    temp_name_gender = {}\n",
    "    flag = 0\n",
    "    filtered = characters_filtered[characters_filtered.wikipedia_id==temp_df.iloc[i].wikipedia_id]\n",
    "    for word, gender in zip(filtered.character_name.apply(str.lower), filtered.actor_gender):\n",
    "        if word in temp_df.iloc[i].summary.lower(): # only consider full match. i.e. full character name matches with the plot summary.\n",
    "            if flag == 0:                           # if there's one full match in the plot summary, we keep this movie.\n",
    "                index.append(i)\n",
    "                flag = 1\n",
    "            temp_name_gender[word] = gender\n",
    "            count_gender[gender] += 1\n",
    "    if flag == 1:\n",
    "        name_gender.append(temp_name_gender)\n",
    "\n",
    "assert len(name_gender)==len(index)"
   ]
  },
  {
   "cell_type": "code",
   "execution_count": 38,
   "metadata": {},
   "outputs": [
    {
     "data": {
      "text/html": [
       "<div>\n",
       "<style scoped>\n",
       "    .dataframe tbody tr th:only-of-type {\n",
       "        vertical-align: middle;\n",
       "    }\n",
       "\n",
       "    .dataframe tbody tr th {\n",
       "        vertical-align: top;\n",
       "    }\n",
       "\n",
       "    .dataframe thead th {\n",
       "        text-align: right;\n",
       "    }\n",
       "</style>\n",
       "<table border=\"1\" class=\"dataframe\">\n",
       "  <thead>\n",
       "    <tr style=\"text-align: right;\">\n",
       "      <th></th>\n",
       "      <th>wikipedia_id</th>\n",
       "      <th>release_date</th>\n",
       "      <th>languages</th>\n",
       "      <th>countries</th>\n",
       "      <th>genres</th>\n",
       "      <th>summary</th>\n",
       "      <th>character_names</th>\n",
       "    </tr>\n",
       "  </thead>\n",
       "  <tbody>\n",
       "    <tr>\n",
       "      <th>0</th>\n",
       "      <td>975900</td>\n",
       "      <td>2001</td>\n",
       "      <td>[English]</td>\n",
       "      <td>[United States of America]</td>\n",
       "      <td>[Thriller, Science Fiction, Horror, Adventure,...</td>\n",
       "      <td>Set in the second half of the 22nd century, th...</td>\n",
       "      <td>{'desolation williams': 'M'}</td>\n",
       "    </tr>\n",
       "    <tr>\n",
       "      <th>1</th>\n",
       "      <td>18998739</td>\n",
       "      <td>2002</td>\n",
       "      <td>[English]</td>\n",
       "      <td>[South Africa]</td>\n",
       "      <td>[Family Film, Fantasy, Adventure, World cinema]</td>\n",
       "      <td>Every hundred years, the evil Morgana  returns...</td>\n",
       "      <td>{'morgana': 'F'}</td>\n",
       "    </tr>\n",
       "    <tr>\n",
       "      <th>2</th>\n",
       "      <td>6631279</td>\n",
       "      <td>1997</td>\n",
       "      <td>[English]</td>\n",
       "      <td>[United States of America]</td>\n",
       "      <td>[Romantic comedy, Ensemble Film, Comedy-drama,...</td>\n",
       "      <td>Adam, a San Francisco-based artist who works a...</td>\n",
       "      <td>{'rebecca': 'F', 'nina': 'F'}</td>\n",
       "    </tr>\n",
       "    <tr>\n",
       "      <th>3</th>\n",
       "      <td>171005</td>\n",
       "      <td>1989</td>\n",
       "      <td>[English]</td>\n",
       "      <td>[United Kingdom]</td>\n",
       "      <td>[Costume drama, War film, Epic, Period piece, ...</td>\n",
       "      <td>{{Plot|dateAct 1Act 2Act 3Act 4Act 5 Finally n...</td>\n",
       "      <td>{'henry v': 'M'}</td>\n",
       "    </tr>\n",
       "    <tr>\n",
       "      <th>4</th>\n",
       "      <td>77856</td>\n",
       "      <td>1964</td>\n",
       "      <td>[English]</td>\n",
       "      <td>[United States of America]</td>\n",
       "      <td>[Children's/Family, Musical, Fantasy, Comedy, ...</td>\n",
       "      <td>The film opens with Mary Poppins  perched in a...</td>\n",
       "      <td>{'george banks': 'M', 'bert': 'M', 'mary poppi...</td>\n",
       "    </tr>\n",
       "  </tbody>\n",
       "</table>\n",
       "</div>"
      ],
      "text/plain": [
       "   wikipedia_id  release_date  languages                   countries  \\\n",
       "0        975900          2001  [English]  [United States of America]   \n",
       "1      18998739          2002  [English]              [South Africa]   \n",
       "2       6631279          1997  [English]  [United States of America]   \n",
       "3        171005          1989  [English]            [United Kingdom]   \n",
       "4         77856          1964  [English]  [United States of America]   \n",
       "\n",
       "                                              genres  \\\n",
       "0  [Thriller, Science Fiction, Horror, Adventure,...   \n",
       "1    [Family Film, Fantasy, Adventure, World cinema]   \n",
       "2  [Romantic comedy, Ensemble Film, Comedy-drama,...   \n",
       "3  [Costume drama, War film, Epic, Period piece, ...   \n",
       "4  [Children's/Family, Musical, Fantasy, Comedy, ...   \n",
       "\n",
       "                                             summary  \\\n",
       "0  Set in the second half of the 22nd century, th...   \n",
       "1  Every hundred years, the evil Morgana  returns...   \n",
       "2  Adam, a San Francisco-based artist who works a...   \n",
       "3  {{Plot|dateAct 1Act 2Act 3Act 4Act 5 Finally n...   \n",
       "4  The film opens with Mary Poppins  perched in a...   \n",
       "\n",
       "                                     character_names  \n",
       "0                       {'desolation williams': 'M'}  \n",
       "1                                   {'morgana': 'F'}  \n",
       "2                      {'rebecca': 'F', 'nina': 'F'}  \n",
       "3                                   {'henry v': 'M'}  \n",
       "4  {'george banks': 'M', 'bert': 'M', 'mary poppi...  "
      ]
     },
     "execution_count": 38,
     "metadata": {},
     "output_type": "execute_result"
    }
   ],
   "source": [
    "movies_plots_filtered = temp_df.iloc[index].copy()\n",
    "movies_plots_filtered.loc[:, 'character_names'] = name_gender\n",
    "movies_plots_filtered = movies_plots_filtered.reset_index(drop=True)\n",
    "movies_plots_filtered.head()"
   ]
  },
  {
   "cell_type": "code",
   "execution_count": 35,
   "metadata": {},
   "outputs": [
    {
     "name": "stdout",
     "output_type": "stream",
     "text": [
      "There are only 16403 movies left and with 30077 male characters and 15701 female characters.\n"
     ]
    }
   ],
   "source": [
    "print(\"There are only {} movies left and with {} male characters and {} female characters.\".format(\n",
    "    len(movies_plots_filtered),\n",
    "    count_gender['M'],\n",
    "    count_gender['F']\n",
    "))"
   ]
  },
  {
   "cell_type": "markdown",
   "metadata": {},
   "source": [
    "Now we extract nouns, verbs, and adjectives around male and female character names and put these words in `male_dict` and `female_dict` to calculate the frequency of words. We also count the word frequency of different types of words (noun, verb, adjective)."
   ]
  },
  {
   "cell_type": "code",
   "execution_count": 46,
   "metadata": {},
   "outputs": [],
   "source": [
    "gender_dict = {\n",
    "    'M': {'all': {}, 'noun': {}, 'verb': {}, 'adj': {}},\n",
    "    'F': {'all': {}, 'noun': {}, 'verb': {}, 'adj': {}}\n",
    "}\n",
    "pos_filter = [\n",
    "    'JJ', 'JJR', 'JJS',\n",
    "    'NN', 'NNS', 'NNP', 'NNPS',\n",
    "    'VB', 'VBD', 'VBG', 'VBN', 'VBP', 'VBZ'\n",
    "]\n",
    "pos_filter_dict = {\n",
    "    'JJ': 'adj', 'JJR': 'adj', 'JJS': 'adj',\n",
    "    'NN': 'noun', 'NNS': 'noun', 'NNP': 'noun', 'NNPS': 'noun',\n",
    "    'VB': 'verb', 'VBD': 'verb', 'VBG': 'verb', 'VBN': 'verb', 'VBP': 'verb', 'VBZ': 'verb'\n",
    "}\n",
    "window_size = 2     # search two words of {n., adj., v.} before first name and after last name if possible."
   ]
  },
  {
   "cell_type": "code",
   "execution_count": 55,
   "metadata": {},
   "outputs": [],
   "source": [
    "# for i in range(len(movies_plots_filtered)):\n",
    "for i in range(100):  # debugging\n",
    "    genders = movies_plots_filtered.iloc[i].character_names\n",
    "    wiki_id = movies_plots_filtered.iloc[i].wikipedia_id\n",
    "    for character_name in genders:\n",
    "        gender = genders[character_name]\n",
    "        assert gender == 'F' or gender == 'M'\n",
    "        name_list = character_name.split()      # 'yiyang feng' -> ['yiyang', 'feng']\n",
    "        first_name = name_list[0]\n",
    "        last_name = name_list[-1]\n",
    "\n",
    "        tree = ET.parse(summary_path+str(wiki_id)+\".xml\")   # use corenlp data\n",
    "        root = tree.getroot()\n",
    "        pos_list = root.findall(\".//*POS\")\n",
    "        word_list = root.findall(\".//*lemma\")\n",
    "\n",
    "        idx, length = 0, len(word_list)\n",
    "        count_head, count_tail = 0, 0\n",
    "        while idx<length:\n",
    "            if word_list[idx].text.lower() == first_name and word_list[min(idx+len(name_list)-1, length-1)].text.lower() == last_name:\n",
    "                head_idx = idx\n",
    "                tail_idx = idx+len(name_list)-1\n",
    "                \n",
    "                # search w1, w2, ... before first name ([w1, w2, ..., 'yiyang', 'feng', ...])\n",
    "                for pre_idx in range(head_idx-1, -1, -1):\n",
    "                    if pos_list[pre_idx].text in pos_filter:\n",
    "                        if word_list[pre_idx].text.lower() not in gender_dict[gender]['all'].keys():\n",
    "                            gender_dict[gender]['all'][word_list[pre_idx].text.lower()] = 1\n",
    "                            gender_dict[gender][pos_filter_dict[pos_list[pre_idx].text]][word_list[pre_idx].text.lower()] = 1\n",
    "                            count_head += 1\n",
    "                        else:\n",
    "                            gender_dict[gender]['all'][word_list[pre_idx].text.lower()] += 1\n",
    "                            gender_dict[gender][pos_filter_dict[pos_list[pre_idx].text]][word_list[pre_idx].text.lower()] += 1\n",
    "                            count_head += 1\n",
    "                    \n",
    "                    if count_head == window_size:\n",
    "                        break\n",
    "\n",
    "                    if word_list[pre_idx].text in string.punctuation:   # don't search across sentences!\n",
    "                        break\n",
    "\n",
    "                # search v1, v2, ... after last name ([..., 'yiyang', 'feng', v1, v2, ...])\n",
    "                for nxt_idx in range(tail_idx+1, length):\n",
    "                    if pos_list[nxt_idx].text in pos_filter:\n",
    "                        if word_list[nxt_idx].text.lower() not in gender_dict[gender]['all'].keys():\n",
    "                            gender_dict[gender]['all'][word_list[nxt_idx].text.lower()] = 1\n",
    "                            gender_dict[gender][pos_filter_dict[pos_list[nxt_idx].text]][word_list[nxt_idx].text.lower()] = 1\n",
    "                            count_tail += 1\n",
    "                        else:\n",
    "                            gender_dict[gender]['all'][word_list[nxt_idx].text.lower()] += 1\n",
    "                            gender_dict[gender][pos_filter_dict[pos_list[nxt_idx].text]][word_list[nxt_idx].text.lower()] += 1\n",
    "                            count_tail += 1\n",
    "                    \n",
    "                    if count_tail == window_size:\n",
    "                        break\n",
    "\n",
    "                    if word_list[nxt_idx].text in string.punctuation:   # don't search across sentences!\n",
    "                        break\n",
    "\n",
    "                idx = tail_idx+1\n",
    "\n",
    "            else:\n",
    "                idx += 1"
   ]
  },
  {
   "cell_type": "markdown",
   "metadata": {},
   "source": [
    "### Analysis\n",
    "\n",
    "We first analyze overall distribution of revelant words of male and female characters. Then we compare log frequencies of different POS of the words (noun, verb, adjective) between men and women."
   ]
  },
  {
   "cell_type": "code",
   "execution_count": 137,
   "metadata": {},
   "outputs": [
    {
     "data": {
      "image/png": "[encoded data removed]",
      "text/plain": [
       "<Figure size 640x480 with 8 Axes>"
      ]
     },
     "metadata": {},
     "output_type": "display_data"
    }
   ],
   "source": [
    "fig, axes = plt.subplots(2, 4, sharex=True)\n",
    "axes = axes.ravel()\n",
    "fig.suptitle(\"Log frequencies of top 15 frequent words according to genders and word types\")\n",
    "\n",
    "for idx, word_type in enumerate([\"all\", \"noun\", \"verb\", \"adj\"]):\n",
    "    male_words = pd.DataFrame.from_dict(\n",
    "        gender_dict['M'][word_type],\n",
    "        orient='index', columns=['count']\n",
    "    ).sort_values(\n",
    "        by=['count']\n",
    "    )[-15:]\n",
    "\n",
    "    female_words = pd.DataFrame.from_dict(\n",
    "        gender_dict['F'][word_type],\n",
    "        orient='index', columns=['count']\n",
    "    ).sort_values(\n",
    "        by=['count']\n",
    "    )[-15:]\n",
    "    ax = np.log(male_words).plot.barh(ax=axes[idx], legend=False, title=\"male-{}\".format(word_type))\n",
    "    ax = np.log(female_words).plot.barh(ax=axes[idx+4], color='orange', legend=False, title=\"female-{}\".format(word_type))\n",
    "\n",
    "fig.text(0.42, 0, \"Log frequencies\")\n",
    "fig.text(0, 0.4, \"Frequent words\", rotation = 90)\n",
    "plt.tight_layout()\n",
    "plt.show()"
   ]
  },
  {
   "cell_type": "markdown",
   "metadata": {},
   "source": [
    "**Analysis**: We found that gender steorotypes do exist in movie plot summaries!\n",
    "\n",
    "- From the first column of the figure, we can see word \"kill\" is more related to man characters while \"love\" and \"marry\" occur more with woman characters.\n",
    "- From the second column of the figure, we can see word \"police\" appears in the top 15 frequent words of male characters but not in female characters.\n",
    "- From the last column of the figure, we can see word \"old\" shows up more than \"young\" for men but the trend is opposite to women.\n",
    "\n",
    "We can roughly see that males are more related to the words \"kill\", \"police\", and \"old\" while females are associated with the words \"love\", \"marry\", \"young\". This is a quite primitive analysis and somewhat subjective. We need to refine our analysis and find some methods and metrics in the future."
   ]
  },
  {
   "cell_type": "markdown",
   "metadata": {},
   "source": [
    "### Future directions\n",
    "\n",
    "- Use `networkx` to build an entity graph by linking male and female characters to relevant words. Visualize which words are unique to males and females and which are common.\n",
    "- Separate the factors of time, genres, countries, languages, and POS (n., adj., v.).\n",
    "- Explore ways to analyze gender steorotypes from word frequencies."
   ]
  }
 ],
 "metadata": {
  "kernelspec": {
   "display_name": "Python 3.7.13 ('py37')",
   "language": "python",
   "name": "python3"
  },
  "language_info": {
   "codemirror_mode": {
    "name": "ipython",
    "version": 3
   },
   "file_extension": ".py",
   "mimetype": "text/x-python",
   "name": "python",
   "nbconvert_exporter": "python",
   "pygments_lexer": "ipython3",
   "version": "3.7.13"
  },
  "orig_nbformat": 4,
  "vscode": {
   "interpreter": {
    "hash": "578317ea115a054ac4bccdfa892faa859649678dbaf6df54b2b98fb2846a81cd"
   }
  }
 },
 "nbformat": 4,
 "nbformat_minor": 2
}
